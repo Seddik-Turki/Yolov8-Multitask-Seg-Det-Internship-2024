{
  "nbformat": 4,
  "nbformat_minor": 0,
  "metadata": {
    "colab": {
      "provenance": [],
      "collapsed_sections": [
        "OOsPyWBcvZJg"
      ],
      "gpuType": "T4",
      "toc_visible": true
    },
    "kernelspec": {
      "name": "python3",
      "display_name": "Python 3"
    },
    "language_info": {
      "name": "python"
    },
    "widgets": {
      "application/vnd.jupyter.widget-state+json": {
        "1b29ba4c481a4129ac072381afa0efaf": {
          "model_module": "@jupyter-widgets/controls",
          "model_name": "HBoxModel",
          "model_module_version": "1.5.0",
          "state": {
            "_dom_classes": [],
            "_model_module": "@jupyter-widgets/controls",
            "_model_module_version": "1.5.0",
            "_model_name": "HBoxModel",
            "_view_count": null,
            "_view_module": "@jupyter-widgets/controls",
            "_view_module_version": "1.5.0",
            "_view_name": "HBoxView",
            "box_style": "",
            "children": [
              "IPY_MODEL_d40d78869b8e40f8957d946c8b29c634",
              "IPY_MODEL_9c0c75fb350c42ab80a4b820cf071786",
              "IPY_MODEL_aed24e2518d3407d909f6389931cf93e"
            ],
            "layout": "IPY_MODEL_018f71d53a0b484cbef73e1124d5b045"
          }
        },
        "d40d78869b8e40f8957d946c8b29c634": {
          "model_module": "@jupyter-widgets/controls",
          "model_name": "HTMLModel",
          "model_module_version": "1.5.0",
          "state": {
            "_dom_classes": [],
            "_model_module": "@jupyter-widgets/controls",
            "_model_module_version": "1.5.0",
            "_model_name": "HTMLModel",
            "_view_count": null,
            "_view_module": "@jupyter-widgets/controls",
            "_view_module_version": "1.5.0",
            "_view_name": "HTMLView",
            "description": "",
            "description_tooltip": null,
            "layout": "IPY_MODEL_4872d5d1e267425592ebed0974a2ad2b",
            "placeholder": "​",
            "style": "IPY_MODEL_4923e1d3e734437799cb2757cc380e61",
            "value": "100%"
          }
        },
        "9c0c75fb350c42ab80a4b820cf071786": {
          "model_module": "@jupyter-widgets/controls",
          "model_name": "FloatProgressModel",
          "model_module_version": "1.5.0",
          "state": {
            "_dom_classes": [],
            "_model_module": "@jupyter-widgets/controls",
            "_model_module_version": "1.5.0",
            "_model_name": "FloatProgressModel",
            "_view_count": null,
            "_view_module": "@jupyter-widgets/controls",
            "_view_module_version": "1.5.0",
            "_view_name": "ProgressView",
            "bar_style": "success",
            "description": "",
            "description_tooltip": null,
            "layout": "IPY_MODEL_7343b21abb8d4c3ab74f8a67b9d8ef85",
            "max": 7650,
            "min": 0,
            "orientation": "horizontal",
            "style": "IPY_MODEL_b88ba246cf8f4d2d8938f07f6450f61c",
            "value": 7650
          }
        },
        "aed24e2518d3407d909f6389931cf93e": {
          "model_module": "@jupyter-widgets/controls",
          "model_name": "HTMLModel",
          "model_module_version": "1.5.0",
          "state": {
            "_dom_classes": [],
            "_model_module": "@jupyter-widgets/controls",
            "_model_module_version": "1.5.0",
            "_model_name": "HTMLModel",
            "_view_count": null,
            "_view_module": "@jupyter-widgets/controls",
            "_view_module_version": "1.5.0",
            "_view_name": "HTMLView",
            "description": "",
            "description_tooltip": null,
            "layout": "IPY_MODEL_9320a0f48bc444a28fc2a01a5e19bb9a",
            "placeholder": "​",
            "style": "IPY_MODEL_a576e810380b44abb8461a219f04f432",
            "value": " 7650/7650 [18:43&lt;00:00,  5.17it/s]"
          }
        },
        "018f71d53a0b484cbef73e1124d5b045": {
          "model_module": "@jupyter-widgets/base",
          "model_name": "LayoutModel",
          "model_module_version": "1.2.0",
          "state": {
            "_model_module": "@jupyter-widgets/base",
            "_model_module_version": "1.2.0",
            "_model_name": "LayoutModel",
            "_view_count": null,
            "_view_module": "@jupyter-widgets/base",
            "_view_module_version": "1.2.0",
            "_view_name": "LayoutView",
            "align_content": null,
            "align_items": null,
            "align_self": null,
            "border": null,
            "bottom": null,
            "display": null,
            "flex": null,
            "flex_flow": null,
            "grid_area": null,
            "grid_auto_columns": null,
            "grid_auto_flow": null,
            "grid_auto_rows": null,
            "grid_column": null,
            "grid_gap": null,
            "grid_row": null,
            "grid_template_areas": null,
            "grid_template_columns": null,
            "grid_template_rows": null,
            "height": null,
            "justify_content": null,
            "justify_items": null,
            "left": null,
            "margin": null,
            "max_height": null,
            "max_width": null,
            "min_height": null,
            "min_width": null,
            "object_fit": null,
            "object_position": null,
            "order": null,
            "overflow": null,
            "overflow_x": null,
            "overflow_y": null,
            "padding": null,
            "right": null,
            "top": null,
            "visibility": null,
            "width": null
          }
        },
        "4872d5d1e267425592ebed0974a2ad2b": {
          "model_module": "@jupyter-widgets/base",
          "model_name": "LayoutModel",
          "model_module_version": "1.2.0",
          "state": {
            "_model_module": "@jupyter-widgets/base",
            "_model_module_version": "1.2.0",
            "_model_name": "LayoutModel",
            "_view_count": null,
            "_view_module": "@jupyter-widgets/base",
            "_view_module_version": "1.2.0",
            "_view_name": "LayoutView",
            "align_content": null,
            "align_items": null,
            "align_self": null,
            "border": null,
            "bottom": null,
            "display": null,
            "flex": null,
            "flex_flow": null,
            "grid_area": null,
            "grid_auto_columns": null,
            "grid_auto_flow": null,
            "grid_auto_rows": null,
            "grid_column": null,
            "grid_gap": null,
            "grid_row": null,
            "grid_template_areas": null,
            "grid_template_columns": null,
            "grid_template_rows": null,
            "height": null,
            "justify_content": null,
            "justify_items": null,
            "left": null,
            "margin": null,
            "max_height": null,
            "max_width": null,
            "min_height": null,
            "min_width": null,
            "object_fit": null,
            "object_position": null,
            "order": null,
            "overflow": null,
            "overflow_x": null,
            "overflow_y": null,
            "padding": null,
            "right": null,
            "top": null,
            "visibility": null,
            "width": null
          }
        },
        "4923e1d3e734437799cb2757cc380e61": {
          "model_module": "@jupyter-widgets/controls",
          "model_name": "DescriptionStyleModel",
          "model_module_version": "1.5.0",
          "state": {
            "_model_module": "@jupyter-widgets/controls",
            "_model_module_version": "1.5.0",
            "_model_name": "DescriptionStyleModel",
            "_view_count": null,
            "_view_module": "@jupyter-widgets/base",
            "_view_module_version": "1.2.0",
            "_view_name": "StyleView",
            "description_width": ""
          }
        },
        "7343b21abb8d4c3ab74f8a67b9d8ef85": {
          "model_module": "@jupyter-widgets/base",
          "model_name": "LayoutModel",
          "model_module_version": "1.2.0",
          "state": {
            "_model_module": "@jupyter-widgets/base",
            "_model_module_version": "1.2.0",
            "_model_name": "LayoutModel",
            "_view_count": null,
            "_view_module": "@jupyter-widgets/base",
            "_view_module_version": "1.2.0",
            "_view_name": "LayoutView",
            "align_content": null,
            "align_items": null,
            "align_self": null,
            "border": null,
            "bottom": null,
            "display": null,
            "flex": null,
            "flex_flow": null,
            "grid_area": null,
            "grid_auto_columns": null,
            "grid_auto_flow": null,
            "grid_auto_rows": null,
            "grid_column": null,
            "grid_gap": null,
            "grid_row": null,
            "grid_template_areas": null,
            "grid_template_columns": null,
            "grid_template_rows": null,
            "height": null,
            "justify_content": null,
            "justify_items": null,
            "left": null,
            "margin": null,
            "max_height": null,
            "max_width": null,
            "min_height": null,
            "min_width": null,
            "object_fit": null,
            "object_position": null,
            "order": null,
            "overflow": null,
            "overflow_x": null,
            "overflow_y": null,
            "padding": null,
            "right": null,
            "top": null,
            "visibility": null,
            "width": null
          }
        },
        "b88ba246cf8f4d2d8938f07f6450f61c": {
          "model_module": "@jupyter-widgets/controls",
          "model_name": "ProgressStyleModel",
          "model_module_version": "1.5.0",
          "state": {
            "_model_module": "@jupyter-widgets/controls",
            "_model_module_version": "1.5.0",
            "_model_name": "ProgressStyleModel",
            "_view_count": null,
            "_view_module": "@jupyter-widgets/base",
            "_view_module_version": "1.2.0",
            "_view_name": "StyleView",
            "bar_color": null,
            "description_width": ""
          }
        },
        "9320a0f48bc444a28fc2a01a5e19bb9a": {
          "model_module": "@jupyter-widgets/base",
          "model_name": "LayoutModel",
          "model_module_version": "1.2.0",
          "state": {
            "_model_module": "@jupyter-widgets/base",
            "_model_module_version": "1.2.0",
            "_model_name": "LayoutModel",
            "_view_count": null,
            "_view_module": "@jupyter-widgets/base",
            "_view_module_version": "1.2.0",
            "_view_name": "LayoutView",
            "align_content": null,
            "align_items": null,
            "align_self": null,
            "border": null,
            "bottom": null,
            "display": null,
            "flex": null,
            "flex_flow": null,
            "grid_area": null,
            "grid_auto_columns": null,
            "grid_auto_flow": null,
            "grid_auto_rows": null,
            "grid_column": null,
            "grid_gap": null,
            "grid_row": null,
            "grid_template_areas": null,
            "grid_template_columns": null,
            "grid_template_rows": null,
            "height": null,
            "justify_content": null,
            "justify_items": null,
            "left": null,
            "margin": null,
            "max_height": null,
            "max_width": null,
            "min_height": null,
            "min_width": null,
            "object_fit": null,
            "object_position": null,
            "order": null,
            "overflow": null,
            "overflow_x": null,
            "overflow_y": null,
            "padding": null,
            "right": null,
            "top": null,
            "visibility": null,
            "width": null
          }
        },
        "a576e810380b44abb8461a219f04f432": {
          "model_module": "@jupyter-widgets/controls",
          "model_name": "DescriptionStyleModel",
          "model_module_version": "1.5.0",
          "state": {
            "_model_module": "@jupyter-widgets/controls",
            "_model_module_version": "1.5.0",
            "_model_name": "DescriptionStyleModel",
            "_view_count": null,
            "_view_module": "@jupyter-widgets/base",
            "_view_module_version": "1.2.0",
            "_view_name": "StyleView",
            "description_width": ""
          }
        },
        "ee9842d4dc6641edadf533755b1a1675": {
          "model_module": "@jupyter-widgets/controls",
          "model_name": "HBoxModel",
          "model_module_version": "1.5.0",
          "state": {
            "_dom_classes": [],
            "_model_module": "@jupyter-widgets/controls",
            "_model_module_version": "1.5.0",
            "_model_name": "HBoxModel",
            "_view_count": null,
            "_view_module": "@jupyter-widgets/controls",
            "_view_module_version": "1.5.0",
            "_view_name": "HBoxView",
            "box_style": "",
            "children": [
              "IPY_MODEL_95a0f0dfd7e74234b5448e0c7d360120",
              "IPY_MODEL_58cef21d175b482883d0bece8a8ebb29",
              "IPY_MODEL_010753e29b9b46e58e0a48b37ffd9adc"
            ],
            "layout": "IPY_MODEL_914c576157d64b22aa6affd241441a6b"
          }
        },
        "95a0f0dfd7e74234b5448e0c7d360120": {
          "model_module": "@jupyter-widgets/controls",
          "model_name": "HTMLModel",
          "model_module_version": "1.5.0",
          "state": {
            "_dom_classes": [],
            "_model_module": "@jupyter-widgets/controls",
            "_model_module_version": "1.5.0",
            "_model_name": "HTMLModel",
            "_view_count": null,
            "_view_module": "@jupyter-widgets/controls",
            "_view_module_version": "1.5.0",
            "_view_name": "HTMLView",
            "description": "",
            "description_tooltip": null,
            "layout": "IPY_MODEL_dad83f4a106647fc87efae1583f00dfa",
            "placeholder": "​",
            "style": "IPY_MODEL_e3dcb0e898ae4d0181c0113c353f7b15",
            "value": "100%"
          }
        },
        "58cef21d175b482883d0bece8a8ebb29": {
          "model_module": "@jupyter-widgets/controls",
          "model_name": "FloatProgressModel",
          "model_module_version": "1.5.0",
          "state": {
            "_dom_classes": [],
            "_model_module": "@jupyter-widgets/controls",
            "_model_module_version": "1.5.0",
            "_model_name": "FloatProgressModel",
            "_view_count": null,
            "_view_module": "@jupyter-widgets/controls",
            "_view_module_version": "1.5.0",
            "_view_name": "ProgressView",
            "bar_style": "success",
            "description": "",
            "description_tooltip": null,
            "layout": "IPY_MODEL_abb1f99703ed4cbebbd0e65f5fe99f8f",
            "max": 850,
            "min": 0,
            "orientation": "horizontal",
            "style": "IPY_MODEL_d0cdbf8f2a2445e3bccc04129bf90031",
            "value": 850
          }
        },
        "010753e29b9b46e58e0a48b37ffd9adc": {
          "model_module": "@jupyter-widgets/controls",
          "model_name": "HTMLModel",
          "model_module_version": "1.5.0",
          "state": {
            "_dom_classes": [],
            "_model_module": "@jupyter-widgets/controls",
            "_model_module_version": "1.5.0",
            "_model_name": "HTMLModel",
            "_view_count": null,
            "_view_module": "@jupyter-widgets/controls",
            "_view_module_version": "1.5.0",
            "_view_name": "HTMLView",
            "description": "",
            "description_tooltip": null,
            "layout": "IPY_MODEL_d17d2dd54b894d649f102fce98285839",
            "placeholder": "​",
            "style": "IPY_MODEL_d0c7f96535fd409499b3f25b7ab8260b",
            "value": " 850/850 [02:04&lt;00:00,  7.67it/s]"
          }
        },
        "914c576157d64b22aa6affd241441a6b": {
          "model_module": "@jupyter-widgets/base",
          "model_name": "LayoutModel",
          "model_module_version": "1.2.0",
          "state": {
            "_model_module": "@jupyter-widgets/base",
            "_model_module_version": "1.2.0",
            "_model_name": "LayoutModel",
            "_view_count": null,
            "_view_module": "@jupyter-widgets/base",
            "_view_module_version": "1.2.0",
            "_view_name": "LayoutView",
            "align_content": null,
            "align_items": null,
            "align_self": null,
            "border": null,
            "bottom": null,
            "display": null,
            "flex": null,
            "flex_flow": null,
            "grid_area": null,
            "grid_auto_columns": null,
            "grid_auto_flow": null,
            "grid_auto_rows": null,
            "grid_column": null,
            "grid_gap": null,
            "grid_row": null,
            "grid_template_areas": null,
            "grid_template_columns": null,
            "grid_template_rows": null,
            "height": null,
            "justify_content": null,
            "justify_items": null,
            "left": null,
            "margin": null,
            "max_height": null,
            "max_width": null,
            "min_height": null,
            "min_width": null,
            "object_fit": null,
            "object_position": null,
            "order": null,
            "overflow": null,
            "overflow_x": null,
            "overflow_y": null,
            "padding": null,
            "right": null,
            "top": null,
            "visibility": null,
            "width": null
          }
        },
        "dad83f4a106647fc87efae1583f00dfa": {
          "model_module": "@jupyter-widgets/base",
          "model_name": "LayoutModel",
          "model_module_version": "1.2.0",
          "state": {
            "_model_module": "@jupyter-widgets/base",
            "_model_module_version": "1.2.0",
            "_model_name": "LayoutModel",
            "_view_count": null,
            "_view_module": "@jupyter-widgets/base",
            "_view_module_version": "1.2.0",
            "_view_name": "LayoutView",
            "align_content": null,
            "align_items": null,
            "align_self": null,
            "border": null,
            "bottom": null,
            "display": null,
            "flex": null,
            "flex_flow": null,
            "grid_area": null,
            "grid_auto_columns": null,
            "grid_auto_flow": null,
            "grid_auto_rows": null,
            "grid_column": null,
            "grid_gap": null,
            "grid_row": null,
            "grid_template_areas": null,
            "grid_template_columns": null,
            "grid_template_rows": null,
            "height": null,
            "justify_content": null,
            "justify_items": null,
            "left": null,
            "margin": null,
            "max_height": null,
            "max_width": null,
            "min_height": null,
            "min_width": null,
            "object_fit": null,
            "object_position": null,
            "order": null,
            "overflow": null,
            "overflow_x": null,
            "overflow_y": null,
            "padding": null,
            "right": null,
            "top": null,
            "visibility": null,
            "width": null
          }
        },
        "e3dcb0e898ae4d0181c0113c353f7b15": {
          "model_module": "@jupyter-widgets/controls",
          "model_name": "DescriptionStyleModel",
          "model_module_version": "1.5.0",
          "state": {
            "_model_module": "@jupyter-widgets/controls",
            "_model_module_version": "1.5.0",
            "_model_name": "DescriptionStyleModel",
            "_view_count": null,
            "_view_module": "@jupyter-widgets/base",
            "_view_module_version": "1.2.0",
            "_view_name": "StyleView",
            "description_width": ""
          }
        },
        "abb1f99703ed4cbebbd0e65f5fe99f8f": {
          "model_module": "@jupyter-widgets/base",
          "model_name": "LayoutModel",
          "model_module_version": "1.2.0",
          "state": {
            "_model_module": "@jupyter-widgets/base",
            "_model_module_version": "1.2.0",
            "_model_name": "LayoutModel",
            "_view_count": null,
            "_view_module": "@jupyter-widgets/base",
            "_view_module_version": "1.2.0",
            "_view_name": "LayoutView",
            "align_content": null,
            "align_items": null,
            "align_self": null,
            "border": null,
            "bottom": null,
            "display": null,
            "flex": null,
            "flex_flow": null,
            "grid_area": null,
            "grid_auto_columns": null,
            "grid_auto_flow": null,
            "grid_auto_rows": null,
            "grid_column": null,
            "grid_gap": null,
            "grid_row": null,
            "grid_template_areas": null,
            "grid_template_columns": null,
            "grid_template_rows": null,
            "height": null,
            "justify_content": null,
            "justify_items": null,
            "left": null,
            "margin": null,
            "max_height": null,
            "max_width": null,
            "min_height": null,
            "min_width": null,
            "object_fit": null,
            "object_position": null,
            "order": null,
            "overflow": null,
            "overflow_x": null,
            "overflow_y": null,
            "padding": null,
            "right": null,
            "top": null,
            "visibility": null,
            "width": null
          }
        },
        "d0cdbf8f2a2445e3bccc04129bf90031": {
          "model_module": "@jupyter-widgets/controls",
          "model_name": "ProgressStyleModel",
          "model_module_version": "1.5.0",
          "state": {
            "_model_module": "@jupyter-widgets/controls",
            "_model_module_version": "1.5.0",
            "_model_name": "ProgressStyleModel",
            "_view_count": null,
            "_view_module": "@jupyter-widgets/base",
            "_view_module_version": "1.2.0",
            "_view_name": "StyleView",
            "bar_color": null,
            "description_width": ""
          }
        },
        "d17d2dd54b894d649f102fce98285839": {
          "model_module": "@jupyter-widgets/base",
          "model_name": "LayoutModel",
          "model_module_version": "1.2.0",
          "state": {
            "_model_module": "@jupyter-widgets/base",
            "_model_module_version": "1.2.0",
            "_model_name": "LayoutModel",
            "_view_count": null,
            "_view_module": "@jupyter-widgets/base",
            "_view_module_version": "1.2.0",
            "_view_name": "LayoutView",
            "align_content": null,
            "align_items": null,
            "align_self": null,
            "border": null,
            "bottom": null,
            "display": null,
            "flex": null,
            "flex_flow": null,
            "grid_area": null,
            "grid_auto_columns": null,
            "grid_auto_flow": null,
            "grid_auto_rows": null,
            "grid_column": null,
            "grid_gap": null,
            "grid_row": null,
            "grid_template_areas": null,
            "grid_template_columns": null,
            "grid_template_rows": null,
            "height": null,
            "justify_content": null,
            "justify_items": null,
            "left": null,
            "margin": null,
            "max_height": null,
            "max_width": null,
            "min_height": null,
            "min_width": null,
            "object_fit": null,
            "object_position": null,
            "order": null,
            "overflow": null,
            "overflow_x": null,
            "overflow_y": null,
            "padding": null,
            "right": null,
            "top": null,
            "visibility": null,
            "width": null
          }
        },
        "d0c7f96535fd409499b3f25b7ab8260b": {
          "model_module": "@jupyter-widgets/controls",
          "model_name": "DescriptionStyleModel",
          "model_module_version": "1.5.0",
          "state": {
            "_model_module": "@jupyter-widgets/controls",
            "_model_module_version": "1.5.0",
            "_model_name": "DescriptionStyleModel",
            "_view_count": null,
            "_view_module": "@jupyter-widgets/base",
            "_view_module_version": "1.2.0",
            "_view_name": "StyleView",
            "description_width": ""
          }
        },
        "15046a051e2a4222a146ca2cce9b4e83": {
          "model_module": "@jupyter-widgets/controls",
          "model_name": "HBoxModel",
          "model_module_version": "1.5.0",
          "state": {
            "_dom_classes": [],
            "_model_module": "@jupyter-widgets/controls",
            "_model_module_version": "1.5.0",
            "_model_name": "HBoxModel",
            "_view_count": null,
            "_view_module": "@jupyter-widgets/controls",
            "_view_module_version": "1.5.0",
            "_view_name": "HBoxView",
            "box_style": "",
            "children": [
              "IPY_MODEL_a1e6e383905945b88a9be5cb16ac1282",
              "IPY_MODEL_384efd6118754f41a4c2dc2f78fa6cca",
              "IPY_MODEL_c51ed80e4bcd4bf9bbe8028ad7f07740"
            ],
            "layout": "IPY_MODEL_872f9379a7c44d47ab045f47184cfca0"
          }
        },
        "a1e6e383905945b88a9be5cb16ac1282": {
          "model_module": "@jupyter-widgets/controls",
          "model_name": "HTMLModel",
          "model_module_version": "1.5.0",
          "state": {
            "_dom_classes": [],
            "_model_module": "@jupyter-widgets/controls",
            "_model_module_version": "1.5.0",
            "_model_name": "HTMLModel",
            "_view_count": null,
            "_view_module": "@jupyter-widgets/controls",
            "_view_module_version": "1.5.0",
            "_view_name": "HTMLView",
            "description": "",
            "description_tooltip": null,
            "layout": "IPY_MODEL_fb91110bb4674ee29baf4931db990eff",
            "placeholder": "​",
            "style": "IPY_MODEL_15610f7842924feca0cdf27197732e29",
            "value": "100%"
          }
        },
        "384efd6118754f41a4c2dc2f78fa6cca": {
          "model_module": "@jupyter-widgets/controls",
          "model_name": "FloatProgressModel",
          "model_module_version": "1.5.0",
          "state": {
            "_dom_classes": [],
            "_model_module": "@jupyter-widgets/controls",
            "_model_module_version": "1.5.0",
            "_model_name": "FloatProgressModel",
            "_view_count": null,
            "_view_module": "@jupyter-widgets/controls",
            "_view_module_version": "1.5.0",
            "_view_name": "ProgressView",
            "bar_style": "success",
            "description": "",
            "description_tooltip": null,
            "layout": "IPY_MODEL_5fd588d9428d4e54a5bfca3ec6fdcf27",
            "max": 8500,
            "min": 0,
            "orientation": "horizontal",
            "style": "IPY_MODEL_8d0ecc7cac0b4cdc9e8c61b59c54791c",
            "value": 8500
          }
        },
        "c51ed80e4bcd4bf9bbe8028ad7f07740": {
          "model_module": "@jupyter-widgets/controls",
          "model_name": "HTMLModel",
          "model_module_version": "1.5.0",
          "state": {
            "_dom_classes": [],
            "_model_module": "@jupyter-widgets/controls",
            "_model_module_version": "1.5.0",
            "_model_name": "HTMLModel",
            "_view_count": null,
            "_view_module": "@jupyter-widgets/controls",
            "_view_module_version": "1.5.0",
            "_view_name": "HTMLView",
            "description": "",
            "description_tooltip": null,
            "layout": "IPY_MODEL_aa6ed5e0f48e434ba550f69cbd54787e",
            "placeholder": "​",
            "style": "IPY_MODEL_219548ced4494d1d855c4fd921a9cad2",
            "value": " 8500/8500 [16:01&lt;00:00,  8.98it/s]"
          }
        },
        "872f9379a7c44d47ab045f47184cfca0": {
          "model_module": "@jupyter-widgets/base",
          "model_name": "LayoutModel",
          "model_module_version": "1.2.0",
          "state": {
            "_model_module": "@jupyter-widgets/base",
            "_model_module_version": "1.2.0",
            "_model_name": "LayoutModel",
            "_view_count": null,
            "_view_module": "@jupyter-widgets/base",
            "_view_module_version": "1.2.0",
            "_view_name": "LayoutView",
            "align_content": null,
            "align_items": null,
            "align_self": null,
            "border": null,
            "bottom": null,
            "display": null,
            "flex": null,
            "flex_flow": null,
            "grid_area": null,
            "grid_auto_columns": null,
            "grid_auto_flow": null,
            "grid_auto_rows": null,
            "grid_column": null,
            "grid_gap": null,
            "grid_row": null,
            "grid_template_areas": null,
            "grid_template_columns": null,
            "grid_template_rows": null,
            "height": null,
            "justify_content": null,
            "justify_items": null,
            "left": null,
            "margin": null,
            "max_height": null,
            "max_width": null,
            "min_height": null,
            "min_width": null,
            "object_fit": null,
            "object_position": null,
            "order": null,
            "overflow": null,
            "overflow_x": null,
            "overflow_y": null,
            "padding": null,
            "right": null,
            "top": null,
            "visibility": null,
            "width": null
          }
        },
        "fb91110bb4674ee29baf4931db990eff": {
          "model_module": "@jupyter-widgets/base",
          "model_name": "LayoutModel",
          "model_module_version": "1.2.0",
          "state": {
            "_model_module": "@jupyter-widgets/base",
            "_model_module_version": "1.2.0",
            "_model_name": "LayoutModel",
            "_view_count": null,
            "_view_module": "@jupyter-widgets/base",
            "_view_module_version": "1.2.0",
            "_view_name": "LayoutView",
            "align_content": null,
            "align_items": null,
            "align_self": null,
            "border": null,
            "bottom": null,
            "display": null,
            "flex": null,
            "flex_flow": null,
            "grid_area": null,
            "grid_auto_columns": null,
            "grid_auto_flow": null,
            "grid_auto_rows": null,
            "grid_column": null,
            "grid_gap": null,
            "grid_row": null,
            "grid_template_areas": null,
            "grid_template_columns": null,
            "grid_template_rows": null,
            "height": null,
            "justify_content": null,
            "justify_items": null,
            "left": null,
            "margin": null,
            "max_height": null,
            "max_width": null,
            "min_height": null,
            "min_width": null,
            "object_fit": null,
            "object_position": null,
            "order": null,
            "overflow": null,
            "overflow_x": null,
            "overflow_y": null,
            "padding": null,
            "right": null,
            "top": null,
            "visibility": null,
            "width": null
          }
        },
        "15610f7842924feca0cdf27197732e29": {
          "model_module": "@jupyter-widgets/controls",
          "model_name": "DescriptionStyleModel",
          "model_module_version": "1.5.0",
          "state": {
            "_model_module": "@jupyter-widgets/controls",
            "_model_module_version": "1.5.0",
            "_model_name": "DescriptionStyleModel",
            "_view_count": null,
            "_view_module": "@jupyter-widgets/base",
            "_view_module_version": "1.2.0",
            "_view_name": "StyleView",
            "description_width": ""
          }
        },
        "5fd588d9428d4e54a5bfca3ec6fdcf27": {
          "model_module": "@jupyter-widgets/base",
          "model_name": "LayoutModel",
          "model_module_version": "1.2.0",
          "state": {
            "_model_module": "@jupyter-widgets/base",
            "_model_module_version": "1.2.0",
            "_model_name": "LayoutModel",
            "_view_count": null,
            "_view_module": "@jupyter-widgets/base",
            "_view_module_version": "1.2.0",
            "_view_name": "LayoutView",
            "align_content": null,
            "align_items": null,
            "align_self": null,
            "border": null,
            "bottom": null,
            "display": null,
            "flex": null,
            "flex_flow": null,
            "grid_area": null,
            "grid_auto_columns": null,
            "grid_auto_flow": null,
            "grid_auto_rows": null,
            "grid_column": null,
            "grid_gap": null,
            "grid_row": null,
            "grid_template_areas": null,
            "grid_template_columns": null,
            "grid_template_rows": null,
            "height": null,
            "justify_content": null,
            "justify_items": null,
            "left": null,
            "margin": null,
            "max_height": null,
            "max_width": null,
            "min_height": null,
            "min_width": null,
            "object_fit": null,
            "object_position": null,
            "order": null,
            "overflow": null,
            "overflow_x": null,
            "overflow_y": null,
            "padding": null,
            "right": null,
            "top": null,
            "visibility": null,
            "width": null
          }
        },
        "8d0ecc7cac0b4cdc9e8c61b59c54791c": {
          "model_module": "@jupyter-widgets/controls",
          "model_name": "ProgressStyleModel",
          "model_module_version": "1.5.0",
          "state": {
            "_model_module": "@jupyter-widgets/controls",
            "_model_module_version": "1.5.0",
            "_model_name": "ProgressStyleModel",
            "_view_count": null,
            "_view_module": "@jupyter-widgets/base",
            "_view_module_version": "1.2.0",
            "_view_name": "StyleView",
            "bar_color": null,
            "description_width": ""
          }
        },
        "aa6ed5e0f48e434ba550f69cbd54787e": {
          "model_module": "@jupyter-widgets/base",
          "model_name": "LayoutModel",
          "model_module_version": "1.2.0",
          "state": {
            "_model_module": "@jupyter-widgets/base",
            "_model_module_version": "1.2.0",
            "_model_name": "LayoutModel",
            "_view_count": null,
            "_view_module": "@jupyter-widgets/base",
            "_view_module_version": "1.2.0",
            "_view_name": "LayoutView",
            "align_content": null,
            "align_items": null,
            "align_self": null,
            "border": null,
            "bottom": null,
            "display": null,
            "flex": null,
            "flex_flow": null,
            "grid_area": null,
            "grid_auto_columns": null,
            "grid_auto_flow": null,
            "grid_auto_rows": null,
            "grid_column": null,
            "grid_gap": null,
            "grid_row": null,
            "grid_template_areas": null,
            "grid_template_columns": null,
            "grid_template_rows": null,
            "height": null,
            "justify_content": null,
            "justify_items": null,
            "left": null,
            "margin": null,
            "max_height": null,
            "max_width": null,
            "min_height": null,
            "min_width": null,
            "object_fit": null,
            "object_position": null,
            "order": null,
            "overflow": null,
            "overflow_x": null,
            "overflow_y": null,
            "padding": null,
            "right": null,
            "top": null,
            "visibility": null,
            "width": null
          }
        },
        "219548ced4494d1d855c4fd921a9cad2": {
          "model_module": "@jupyter-widgets/controls",
          "model_name": "DescriptionStyleModel",
          "model_module_version": "1.5.0",
          "state": {
            "_model_module": "@jupyter-widgets/controls",
            "_model_module_version": "1.5.0",
            "_model_name": "DescriptionStyleModel",
            "_view_count": null,
            "_view_module": "@jupyter-widgets/base",
            "_view_module_version": "1.2.0",
            "_view_name": "StyleView",
            "description_width": ""
          }
        }
      }
    },
    "accelerator": "GPU"
  },
  "cells": [
    {
      "cell_type": "markdown",
      "source": [
        "## Prepare Dataset"
      ],
      "metadata": {
        "id": "Dsr8KljXL2gs"
      }
    },
    {
      "cell_type": "code",
      "source": [
        "## 1 min 21 s\n",
        "!gdown 1iBpVko2sehPeOPhQXWaujOpKFQmNvd_m\n",
        "!unrar x -y -idq /content/RailSem19.rar RailSem19\n",
        "!rm /content/RailSem19.rar"
      ],
      "metadata": {
        "colab": {
          "base_uri": "https://localhost:8080/"
        },
        "id": "jPA7GoSuTJGT",
        "outputId": "c8413f9b-5478-4452-b7b8-963b93be8d81"
      },
      "execution_count": null,
      "outputs": [
        {
          "output_type": "stream",
          "name": "stdout",
          "text": [
            "Downloading...\n",
            "From (original): https://drive.google.com/uc?id=1iBpVko2sehPeOPhQXWaujOpKFQmNvd_m\n",
            "From (redirected): https://drive.google.com/uc?id=1iBpVko2sehPeOPhQXWaujOpKFQmNvd_m&confirm=t&uuid=2d32eb4b-0625-43c4-aa18-b2beb0e16fec\n",
            "To: /content/RailSem19.rar\n",
            "100% 5.41G/5.41G [01:32<00:00, 58.4MB/s]\n"
          ]
        }
      ]
    },
    {
      "cell_type": "code",
      "source": [
        "import numpy as np\n",
        "import json\n",
        "from random import shuffle\n",
        "import cv2\n",
        "import sys\n",
        "\n",
        "from sklearn.model_selection import train_test_split\n",
        "from PIL import Image"
      ],
      "metadata": {
        "id": "he0vlvKMTaH1"
      },
      "execution_count": null,
      "outputs": []
    },
    {
      "cell_type": "code",
      "source": [
        "import os\n",
        "import shutil\n",
        "from tqdm.auto import tqdm"
      ],
      "metadata": {
        "id": "rw66u9mpUIWM"
      },
      "execution_count": null,
      "outputs": []
    },
    {
      "cell_type": "code",
      "source": [
        "mask_files = os.listdir('RailSem19/rs19_masks')\n",
        "json_files = os.listdir('RailSem19/rs19_jsons')\n",
        "len(mask_files)"
      ],
      "metadata": {
        "colab": {
          "base_uri": "https://localhost:8080/"
        },
        "id": "YjogU-5lTcMH",
        "outputId": "d7f63e63-f8fb-4ec3-91a6-9bf68d70c203"
      },
      "execution_count": null,
      "outputs": [
        {
          "output_type": "execute_result",
          "data": {
            "text/plain": [
              "8500"
            ]
          },
          "metadata": {},
          "execution_count": 4
        }
      ]
    },
    {
      "cell_type": "code",
      "source": [
        "train_ratio = 0.9  # 90% training, 10% validation\n",
        "train_masks, val_masks = train_test_split(mask_files,\n",
        "                                          train_size=train_ratio,\n",
        "                                          random_state=42)\n",
        "\n",
        "print(\"Training Paths:\", len(train_masks))\n",
        "print(\"Validation Paths:\", len(val_masks))"
      ],
      "metadata": {
        "colab": {
          "base_uri": "https://localhost:8080/"
        },
        "id": "_pDm49fFTdQV",
        "outputId": "ed1b2fa6-49ac-458e-d3af-90f51d87c7c9"
      },
      "execution_count": null,
      "outputs": [
        {
          "output_type": "stream",
          "name": "stdout",
          "text": [
            "Training Paths: 7650\n",
            "Validation Paths: 850\n"
          ]
        }
      ]
    },
    {
      "cell_type": "code",
      "source": [
        "def create_directory_structure(root, segmentation_classes):\n",
        "    # Define the main directory structure\n",
        "    dirs = [\n",
        "        f\"{root}/images/train\",\n",
        "        f\"{root}/images/val\",\n",
        "        f\"{root}/detection-object/labels/train\",\n",
        "        f\"{root}/detection-object/labels/val\"\n",
        "    ]\n",
        "\n",
        "    # Add segmentation classes to the structure\n",
        "    for seg_class in segmentation_classes:\n",
        "        dirs.append(f\"{root}/{seg_class}/labels/train\")\n",
        "        dirs.append(f\"{root}/{seg_class}/labels/val\")\n",
        "\n",
        "    # Create the directories\n",
        "    for directory in dirs:\n",
        "        os.makedirs(directory, exist_ok=True)\n",
        "\n",
        "root = \"dataset_root\"\n",
        "segmentation_classes = [\"track\", \"rail\", \"pole\"] # rename as 'seg-track-02' 'seg-rail-03' 'seg-pole-04'\n",
        "# segmentation_classes = [\"track\", \"rail\", \"vegetation\", \"pole\", \"construction\"]\n",
        "create_directory_structure(root, segmentation_classes)\n",
        "print(\"Directories Created !!!\")"
      ],
      "metadata": {
        "colab": {
          "base_uri": "https://localhost:8080/"
        },
        "id": "guaien9LTfOW",
        "outputId": "50a2e67e-cba9-47e1-bd79-9b91aafb8aff"
      },
      "execution_count": null,
      "outputs": [
        {
          "output_type": "stream",
          "name": "stdout",
          "text": [
            "Directories Created !!!\n"
          ]
        }
      ]
    },
    {
      "cell_type": "code",
      "source": [
        "def polygon2bbox(pnts_draw):\n",
        "      min_x = np.min(pnts_draw[:, 0])\n",
        "      min_y = np.min(pnts_draw[:, 1])\n",
        "      max_x = np.max(pnts_draw[:, 0])\n",
        "      max_y = np.max(pnts_draw[:, 1])\n",
        "      return min_x, min_y, max_x, max_y\n",
        "\n",
        "def json2bbox(inp_path_json):\n",
        "    restricted_classes=['track-sign-front',\n",
        "                        'person-group','person',\n",
        "                        'car', 'truck','train-car',\n",
        "                        'track-signal-front', 'track-signal-back']\n",
        "\n",
        "    inp_json = json.load(open(inp_path_json, 'r'))\n",
        "    _ = {k:[] for k in restricted_classes}\n",
        "    for obj in inp_json[\"objects\"]:\n",
        "        if not obj['label'] in restricted_classes:\n",
        "          continue\n",
        "\n",
        "        if \"boundingbox\" in obj:\n",
        "            _[obj[\"label\"]].append(obj[\"boundingbox\"])\n",
        "\n",
        "        elif \"polygon\" in obj:\n",
        "            pnts_draw = np.around(np.array(obj[\"polygon\"])).astype(np.int32)\n",
        "            min_x, min_y, max_x, max_y = polygon2bbox(pnts_draw)\n",
        "            _[obj[\"label\"]].append([min_x, min_y, max_x, max_y])\n",
        "    return _\n",
        "\n",
        "\n",
        "def box2yolo(x1, y1, x2, y2, image_width, image_height, class_id):\n",
        "    # Compute the center of the bounding box\n",
        "    x_center = (x1 + x2) / 2.0\n",
        "    y_center = (y1 + y2) / 2.0\n",
        "\n",
        "    # Compute the width and height of the bounding box\n",
        "    width = x2 - x1\n",
        "    height = y2 - y1\n",
        "\n",
        "    # Normalize the coordinates\n",
        "    x_center_norm = x_center / image_width\n",
        "    y_center_norm = y_center / image_height\n",
        "    width_norm = width / image_width\n",
        "    height_norm = height / image_height\n",
        "\n",
        "    # YOLO format: class_id, x_center_norm, y_center_norm, width_norm, height_norm\n",
        "    yolo_format = f\"{class_id} {x_center_norm} {y_center_norm} {width_norm} {height_norm}\"\n",
        "    return yolo_format\n",
        "\n",
        "\n",
        "def segment2yolo(coords,image_width, image_height, class_id):\n",
        "    yolo_format = []\n",
        "    for coord in coords:\n",
        "        cnt2yolo = ''.join([f\"{x / image_width} {y / image_height} \" for x, y in coord])\n",
        "        cnt2yolo = f\"{class_id} {cnt2yolo}\"\n",
        "        yolo_format.append(cnt2yolo)\n",
        "    return yolo_format\n",
        "\n",
        "\n",
        "\n",
        "classes_dict = {\n",
        "    ('track-signal-front', 'track-signal-back'):0, # track-signal\n",
        "    ('track-sign-front'):1, # track-sign\n",
        "    ('person-group','person'):2, # person\n",
        "    ('car', 'truck', 'train-car'):3, # vehicule\n",
        "    (3,12):4,        # track\n",
        "    (17,18):5,       # rail\n",
        "    (5):6,           # Pole\n",
        "}\n",
        "\n",
        "def get_class_id(key):\n",
        "    for keys, value in classes_dict.items():\n",
        "        if isinstance(keys, tuple):\n",
        "            if key in keys:\n",
        "                return value\n",
        "        else:\n",
        "            if key == keys:\n",
        "                return value\n",
        "    return None  # Return None if the key is not found\n",
        "\n",
        "class_groups = [[3,12], # track\n",
        "                [17,18], # rail\n",
        "                [5], # Pole\n",
        "                ]\n",
        "\n",
        "key2class = {\n",
        "    'track':4,\n",
        "    'rail':5,\n",
        "    'pole':6,\n",
        "}"
      ],
      "metadata": {
        "id": "MCIvv8_OTgOc"
      },
      "execution_count": null,
      "outputs": []
    },
    {
      "cell_type": "code",
      "source": [
        "for mask in tqdm(train_masks):\n",
        "\n",
        "      ## Write bbox information to txt file\n",
        "      # open mask\n",
        "      path = os.path.join('RailSem19/rs19_masks',mask)\n",
        "      im_id_map = cv2.imread(path,cv2.IMREAD_GRAYSCALE) #get semantic label map\n",
        "      # open image\n",
        "      img = os.path.join('RailSem19/rs19_jpgs',mask.replace('.png','.jpg'))\n",
        "      shutil.copy(img, 'dataset_root/images/train')\n",
        "      img = np.array(Image.open(img).convert('RGB'))\n",
        "      h,w,_ = img.shape\n",
        "      # open json\n",
        "      json_file = os.path.join('RailSem19/rs19_jsons',mask.replace('.png','.json'))\n",
        "\n",
        "\n",
        "      ## bbox classes\n",
        "      bbox = json2bbox(json_file)\n",
        "      # write bbox annotations\n",
        "      with open(f\"dataset_root/detection-object/labels/train/{mask.replace('.png','.txt')}\",'w') as f:\n",
        "        for key,boxes in bbox.items():\n",
        "            if not boxes:\n",
        "              continue\n",
        "            class_id = get_class_id(key)\n",
        "            for box in boxes:\n",
        "                x1,y1,x2,y2 = box\n",
        "                annot = box2yolo(x1, y1, x2, y2, w, h, class_id)\n",
        "                f.write(f'{annot}\\n')\n",
        "\n",
        "\n",
        "      ## Annotations for the segmentation\n",
        "      polygons = {\n",
        "          'track':[],\n",
        "          'rail':[],\n",
        "          'pole':[],\n",
        "      }\n",
        "      for i,select_classes in enumerate(class_groups):\n",
        "          im_id_map_copy = np.copy(im_id_map)\n",
        "          for select_class in select_classes:\n",
        "              im_id_map_copy[im_id_map_copy == select_class] = 20 # there are 19 classes so 20 is not used\n",
        "\n",
        "          im_id_map_copy[im_id_map_copy != 20] = 0\n",
        "          im_id_map_copy[im_id_map_copy == 20] = 255\n",
        "\n",
        "          contours, hierarchy  = cv2.findContours(im_id_map_copy, cv2.RETR_EXTERNAL, cv2.CHAIN_APPROX_SIMPLE)\n",
        "          for cnt in contours:\n",
        "                      polygon = []\n",
        "                      if cv2.contourArea(cnt) > 200:\n",
        "                        for point in cnt:\n",
        "                            polygon.append(list(point[0]))\n",
        "                        polygons[list(polygons.keys())[i]].append(polygon)\n",
        "\n",
        "      for key,coords in polygons.items():\n",
        "            with open(f\"dataset_root/{key}/labels/train/{mask.replace('.png','.txt')}\",'w') as f:\n",
        "                  if not coords: # check if the ther's segmentation in the image\n",
        "                        continue\n",
        "                  class_id = key2class[key]\n",
        "                  yolo_format = segment2yolo(coords, w, h, class_id)\n",
        "                  f.write('\\n'.join(yolo_format))"
      ],
      "metadata": {
        "colab": {
          "base_uri": "https://localhost:8080/",
          "height": 49,
          "referenced_widgets": [
            "1b29ba4c481a4129ac072381afa0efaf",
            "d40d78869b8e40f8957d946c8b29c634",
            "9c0c75fb350c42ab80a4b820cf071786",
            "aed24e2518d3407d909f6389931cf93e",
            "018f71d53a0b484cbef73e1124d5b045",
            "4872d5d1e267425592ebed0974a2ad2b",
            "4923e1d3e734437799cb2757cc380e61",
            "7343b21abb8d4c3ab74f8a67b9d8ef85",
            "b88ba246cf8f4d2d8938f07f6450f61c",
            "9320a0f48bc444a28fc2a01a5e19bb9a",
            "a576e810380b44abb8461a219f04f432"
          ]
        },
        "id": "SlcVy61eThxB",
        "outputId": "436b5e03-38e9-4e3a-fdf9-569856e95b1b"
      },
      "execution_count": null,
      "outputs": [
        {
          "output_type": "display_data",
          "data": {
            "text/plain": [
              "  0%|          | 0/7650 [00:00<?, ?it/s]"
            ],
            "application/vnd.jupyter.widget-view+json": {
              "version_major": 2,
              "version_minor": 0,
              "model_id": "1b29ba4c481a4129ac072381afa0efaf"
            }
          },
          "metadata": {}
        }
      ]
    },
    {
      "cell_type": "code",
      "source": [
        "for mask in tqdm(val_masks):\n",
        "      ## Write bbox information to txt file\n",
        "      # open mask\n",
        "      path = os.path.join('RailSem19/rs19_masks',mask)\n",
        "      im_id_map = cv2.imread(path,cv2.IMREAD_GRAYSCALE) #get semantic label map\n",
        "      # open image\n",
        "      img = os.path.join('RailSem19/rs19_jpgs',mask.replace('.png','.jpg'))\n",
        "      shutil.copy(img, 'dataset_root/images/val')\n",
        "      img = np.array(Image.open(img).convert('RGB'))\n",
        "      h,w,_ = img.shape\n",
        "      # open json\n",
        "      json_file = os.path.join('RailSem19/rs19_jsons',mask.replace('.png','.json'))\n",
        "\n",
        "      ## bbox classes\n",
        "      bbox = json2bbox(json_file)\n",
        "\n",
        "      with open(f\"dataset_root/detection-object/labels/val/{mask.replace('.png','.txt')}\",'w') as f:\n",
        "        for key,boxes in bbox.items():\n",
        "            if not boxes:\n",
        "              continue\n",
        "            class_id = get_class_id(key)\n",
        "            for box in boxes:\n",
        "                x1,y1,x2,y2 = box\n",
        "                annot = box2yolo(x1, y1, x2, y2, w, h, class_id)\n",
        "                f.write(f'{annot}\\n')\n",
        "\n",
        "\n",
        "      ## Annotations for the segmentation\n",
        "      polygons = {\n",
        "          'track':[],\n",
        "          'rail':[],\n",
        "          'pole':[],\n",
        "      }\n",
        "      for i,select_classes in enumerate(class_groups):\n",
        "          im_id_map_copy = np.copy(im_id_map)\n",
        "          for select_class in select_classes:\n",
        "              im_id_map_copy[im_id_map_copy == select_class] = 20 # there are 19 classes so 20 is not used\n",
        "\n",
        "          im_id_map_copy[im_id_map_copy != 20] = 0\n",
        "          im_id_map_copy[im_id_map_copy == 20] = 255\n",
        "\n",
        "          contours, hierarchy  = cv2.findContours(im_id_map_copy, cv2.RETR_EXTERNAL, cv2.CHAIN_APPROX_SIMPLE)\n",
        "          for cnt in contours:\n",
        "                      polygon = []\n",
        "                      if cv2.contourArea(cnt) > 200:\n",
        "                          for point in cnt:\n",
        "                              polygon.append(list(point[0]))\n",
        "                          polygons[list(polygons.keys())[i]].append(polygon)\n",
        "\n",
        "      for key,coords in polygons.items():\n",
        "            with open(f\"dataset_root/{key}/labels/val/{mask.replace('.png','.txt')}\",'w') as f:\n",
        "                  if not coords: # check if the ther's segmentation in the image\n",
        "                        continue\n",
        "                  class_id = key2class[key]\n",
        "                  yolo_format = segment2yolo(coords, w, h, class_id)\n",
        "                  f.write('\\n'.join(yolo_format))"
      ],
      "metadata": {
        "colab": {
          "base_uri": "https://localhost:8080/",
          "height": 49,
          "referenced_widgets": [
            "ee9842d4dc6641edadf533755b1a1675",
            "95a0f0dfd7e74234b5448e0c7d360120",
            "58cef21d175b482883d0bece8a8ebb29",
            "010753e29b9b46e58e0a48b37ffd9adc",
            "914c576157d64b22aa6affd241441a6b",
            "dad83f4a106647fc87efae1583f00dfa",
            "e3dcb0e898ae4d0181c0113c353f7b15",
            "abb1f99703ed4cbebbd0e65f5fe99f8f",
            "d0cdbf8f2a2445e3bccc04129bf90031",
            "d17d2dd54b894d649f102fce98285839",
            "d0c7f96535fd409499b3f25b7ab8260b"
          ]
        },
        "id": "zK9jRE5MTkCy",
        "outputId": "5ad34fab-94a6-4260-bb86-279943172f98"
      },
      "execution_count": null,
      "outputs": [
        {
          "output_type": "display_data",
          "data": {
            "text/plain": [
              "  0%|          | 0/850 [00:00<?, ?it/s]"
            ],
            "application/vnd.jupyter.widget-view+json": {
              "version_major": 2,
              "version_minor": 0,
              "model_id": "ee9842d4dc6641edadf533755b1a1675"
            }
          },
          "metadata": {}
        }
      ]
    },
    {
      "cell_type": "code",
      "source": [
        "os.rename(\"/content/dataset_root/track\", \"/content/dataset_root/seg-track-04\")\n",
        "os.rename(\"/content/dataset_root/rail\", \"/content/dataset_root/seg-rail-05\")\n",
        "os.rename(\"/content/dataset_root/pole\", \"/content/dataset_root/seg-pole-06\")"
      ],
      "metadata": {
        "id": "g3Q95GcZToz2"
      },
      "execution_count": null,
      "outputs": []
    },
    {
      "cell_type": "code",
      "source": [
        "from ultralytics import YOLO\n",
        "import torch\n",
        "import torch.nn as nn\n",
        "\n",
        "import sys\n",
        "import os\n",
        "import cv2"
      ],
      "metadata": {
        "id": "Q2NxtsLl07V6"
      },
      "execution_count": null,
      "outputs": []
    },
    {
      "cell_type": "markdown",
      "source": [
        "## Calculate Metrics"
      ],
      "metadata": {
        "id": "KcXu6uoYvV06"
      }
    },
    {
      "cell_type": "code",
      "source": [
        "import os\n",
        "!git clone https://github.com/JiayuanWang-JW/YOLOv8-multi-task\n",
        "os.chdir('/content/YOLOv8-multi-task')\n",
        "!pip install --quiet -e .\n",
        "os.chdir('/content')\n",
        "!pip install --quiet ultralytics\n",
        "!pip uninstall -y albumentations ## Data augmentations did not work with multitask\n",
        "!rm -r sample_data\n",
        "os.kill(os.getpid(), 9) # Restart Runtime"
      ],
      "metadata": {
        "colab": {
          "base_uri": "https://localhost:8080/"
        },
        "id": "5hA-k0Ns59HX",
        "outputId": "334f80cc-d42e-43d0-e5f2-cb5b5c59b4c1"
      },
      "execution_count": null,
      "outputs": [
        {
          "output_type": "stream",
          "name": "stdout",
          "text": [
            "Cloning into 'YOLOv8-multi-task'...\n",
            "remote: Enumerating objects: 1698, done.\u001b[K\n",
            "remote: Counting objects: 100% (290/290), done.\u001b[K\n",
            "remote: Compressing objects: 100% (234/234), done.\u001b[K\n",
            "remote: Total 1698 (delta 105), reused 196 (delta 49), pack-reused 1408 (from 1)\u001b[K\n",
            "Receiving objects: 100% (1698/1698), 19.55 MiB | 12.86 MiB/s, done.\n",
            "Resolving deltas: 100% (201/201), done.\n",
            "Updating files: 100% (1313/1313), done.\n",
            "  Preparing metadata (setup.py) ... \u001b[?25l\u001b[?25hdone\n",
            "\u001b[2K   \u001b[90m━━━━━━━━━━━━━━━━━━━━━━━━━━━━━━━━━━━━━━━━\u001b[0m \u001b[32m313.8/313.8 kB\u001b[0m \u001b[31m6.2 MB/s\u001b[0m eta \u001b[36m0:00:00\u001b[0m\n",
            "\u001b[?25hFound existing installation: albumentations 1.4.15\n",
            "Uninstalling albumentations-1.4.15:\n",
            "  Successfully uninstalled albumentations-1.4.15\n"
          ]
        }
      ]
    },
    {
      "cell_type": "code",
      "source": [
        "import numpy as np\n",
        "import json\n",
        "from random import shuffle\n",
        "import cv2\n",
        "import sys\n",
        "\n",
        "from PIL import Image"
      ],
      "metadata": {
        "id": "p7pwsrRk7qkO"
      },
      "execution_count": null,
      "outputs": []
    },
    {
      "cell_type": "code",
      "source": [
        "from ultralytics import YOLO\n",
        "import torch"
      ],
      "metadata": {
        "id": "4V4hPq9939Gr"
      },
      "execution_count": null,
      "outputs": []
    },
    {
      "cell_type": "code",
      "source": [
        "!gdown 10IW0VnjNFDrHWk_fPhyNyJtArPIkzY5r # model weights\n",
        "model = YOLO('best 3.pt')"
      ],
      "metadata": {
        "colab": {
          "base_uri": "https://localhost:8080/"
        },
        "id": "xUPYDPOlGsqC",
        "outputId": "e4ce4b08-c99a-4faa-8842-9bc9a58422a0"
      },
      "execution_count": null,
      "outputs": [
        {
          "output_type": "stream",
          "name": "stdout",
          "text": [
            "Downloading...\n",
            "From: https://drive.google.com/uc?id=10IW0VnjNFDrHWk_fPhyNyJtArPIkzY5r\n",
            "To: /content/best 3.pt\n",
            "100% 8.28M/8.28M [00:00<00:00, 52.0MB/s]\n"
          ]
        },
        {
          "output_type": "stream",
          "name": "stderr",
          "text": [
            "/content/YOLOv8-multi-task/ultralytics/nn/tasks.py:711: FutureWarning: You are using `torch.load` with `weights_only=False` (the current default value), which uses the default pickle module implicitly. It is possible to construct malicious pickle data which will execute arbitrary code during unpickling (See https://github.com/pytorch/pytorch/blob/main/SECURITY.md#untrusted-models for more details). In a future release, the default value for `weights_only` will be flipped to `True`. This limits the functions that could be executed during unpickling. Arbitrary objects will no longer be allowed to be loaded via this mode unless they are explicitly allowlisted by the user via `torch.serialization.add_safe_globals`. We recommend you start setting `weights_only=True` for any use case where you don't have full control of the loaded file. Please open an issue on GitHub for any issues related to this experimental feature.\n",
            "  return torch.load(file, map_location='cpu'), file  # load\n"
          ]
        }
      ]
    },
    {
      "cell_type": "code",
      "source": [
        "_ = model.predict(source=np.random.randint(0,256,\n",
        "                                             size=(720,1280,3),\n",
        "                                             dtype=np.uint8),\n",
        "                    imgsz=(384,672),\n",
        "                    name='Rail',\n",
        "                    conf=0.2,\n",
        "                    iou=0.25,\n",
        "                    speed = True)"
      ],
      "metadata": {
        "colab": {
          "base_uri": "https://localhost:8080/"
        },
        "id": "CJRywfdB6vZM",
        "outputId": "946e9e94-62be-41b2-a5d9-647b072c52d1"
      },
      "execution_count": null,
      "outputs": [
        {
          "output_type": "stream",
          "name": "stderr",
          "text": [
            "\n",
            "0: 384x672 (no detections), 22.8ms\n"
          ]
        }
      ]
    },
    {
      "cell_type": "code",
      "source": [
        "import time\n",
        "\n",
        "device = torch.device(\"cuda:0\" if torch.cuda.is_available() else \"cpu\")\n",
        "# model.predictor.model = model.predictor.model.to(device)"
      ],
      "metadata": {
        "id": "Rs-cuTt25l_W"
      },
      "execution_count": null,
      "outputs": []
    },
    {
      "cell_type": "code",
      "source": [
        "img = np.random.randint(0,256,\n",
        "                      size=(720,1280,3),\n",
        "                      dtype=np.uint8)\n",
        "im0s = [img]  # yolo batch expects an image inside a list\n",
        "x = model.predictor.preprocess(im0s)"
      ],
      "metadata": {
        "id": "B9C4EWjs6kSr"
      },
      "execution_count": null,
      "outputs": []
    },
    {
      "cell_type": "code",
      "source": [
        "with torch.no_grad():\n",
        "      # Pre-warming\n",
        "      for _ in range(5):\n",
        "          _ = model(x)\n",
        "\n",
        "      # Test for batch_size = 1\n",
        "      print('test1: model inferring')\n",
        "      print('inferring 1 image for 1000 times...')\n",
        "\n",
        "      torch.cuda.synchronize()\n",
        "      start_time = time.time()\n",
        "\n",
        "      for _ in range(1000):\n",
        "          _ = model(x)\n",
        "\n",
        "      torch.cuda.synchronize()\n",
        "      end_time = time.time()\n",
        "      elapsed_time = (end_time - start_time) / 1000\n",
        "      print(f'{elapsed_time} seconds, {1 / elapsed_time} FPS, @batch_size 1')\n",
        "\n",
        "      # Test for batch_size = 32\n",
        "      print('test2: model inferring only')\n",
        "      print('inferring images for batch_size 32 for 1000 times...')\n",
        "      x = torch.cat([x] * 32, 0).to(device)\n",
        "\n",
        "      torch.cuda.synchronize()\n",
        "      start_time = time.time()\n",
        "\n",
        "      for _ in range(1000):\n",
        "          _ = model(x)\n",
        "\n",
        "      torch.cuda.synchronize()\n",
        "      end_time = time.time()\n",
        "      elapsed_time = (end_time - start_time) / 1000\n",
        "      print(f'{elapsed_time} seconds, {32 / elapsed_time} FPS, @batch_size 32')"
      ],
      "metadata": {
        "id": "M4pnGoAM5hRz"
      },
      "execution_count": null,
      "outputs": []
    },
    {
      "cell_type": "markdown",
      "source": [
        "> 0.026983967542648316 seconds, 37.05904250068098 FPS, @batch_size 1\n",
        "\n",
        "> 0.42233001327514647 seconds, 75.77012997925894 FPS, @batch_size 32\n"
      ],
      "metadata": {
        "id": "FIZAElQT8vac"
      }
    },
    {
      "cell_type": "code",
      "source": [
        "import torch\n",
        "def count_elements_in_model(model):\n",
        "    total_elements = sum(param.numel() for param in model.parameters())\n",
        "    return total_elements\n",
        "\n",
        "# Example usage\n",
        "# model should be an instance of your PyTorch model\n",
        "total_elements = count_elements_in_model(model.model.model)\n",
        "print(f\"Total number of elements in the model: {total_elements}\")"
      ],
      "metadata": {
        "colab": {
          "base_uri": "https://localhost:8080/"
        },
        "id": "KyYOCGrz4IV_",
        "outputId": "13008fee-b49d-4779-daf3-6fd298eed4e5"
      },
      "execution_count": null,
      "outputs": [
        {
          "output_type": "stream",
          "name": "stdout",
          "text": [
            "Total number of elements in the model: 3955140\n"
          ]
        }
      ]
    },
    {
      "cell_type": "code",
      "source": [
        "class_groups = [[3,12], # track\n",
        "                [17,18], # rail\n",
        "                # [8,9], # vegetation\n",
        "                [5], # Pole\n",
        "                # [2] # Construction\n",
        "                ]"
      ],
      "metadata": {
        "id": "6ZEUPOUI2Uyc"
      },
      "execution_count": null,
      "outputs": []
    },
    {
      "cell_type": "code",
      "source": [
        "class SegmentationMetric(object):\n",
        "    '''\n",
        "    imgLabel [batch_size, height(144), width(256)]\n",
        "    confusionMatrix [[0(TN),1(FP)],\n",
        "                     [2(FN),3(TP)]]\n",
        "    '''\n",
        "\n",
        "    def __init__(self, numClass):\n",
        "        self.numClass = numClass\n",
        "        self.confusionMatrix = np.zeros((self.numClass,) * 2)\n",
        "\n",
        "    def pixelAccuracy(self):\n",
        "        # return all class overall pixel accuracy\n",
        "        # acc = (TP + TN) / (TP + TN + FP + TN)\n",
        "        acc = np.diag(self.confusionMatrix).sum() / self.confusionMatrix.sum()\n",
        "        return acc\n",
        "\n",
        "    def _get_values(self):\n",
        "        # Extracting values based on the provided structure\n",
        "        tn = self.confusionMatrix[0, 0]\n",
        "        fp = self.confusionMatrix[0, 1]\n",
        "        fn = self.confusionMatrix[1, 0]\n",
        "        tp = self.confusionMatrix[1, 1]\n",
        "        return tp, fp, fn, tn\n",
        "\n",
        "    def sensitivity(self):\n",
        "        tp, fp, fn, tn = self._get_values()\n",
        "        return tp / (tp + fn + 1e-12)\n",
        "\n",
        "    def specificity(self):\n",
        "        tp, fp, fn, tn = self._get_values()\n",
        "        return tn / (tn + fp + 1e-12)\n",
        "\n",
        "    def lineAccuracy(self):\n",
        "        test = (self.sensitivity() + self.specificity()) / 2\n",
        "        return test\n",
        "\n",
        "    def classPixelAccuracy(self):\n",
        "        # return each category pixel accuracy(A more accurate way to call it precision)\n",
        "        # acc = (TP) / TP + FP\n",
        "        classAcc = np.diag(self.confusionMatrix) / (self.confusionMatrix.sum(axis=0) + 1e-12)\n",
        "        return classAcc\n",
        "\n",
        "    def meanPixelAccuracy(self):\n",
        "        classAcc = self.classPixelAccuracy()\n",
        "        meanAcc = np.nanmean(classAcc)\n",
        "        return meanAcc\n",
        "\n",
        "    def meanIntersectionOverUnion(self):\n",
        "        # Intersection = TP Union = TP + FP + FN\n",
        "        # IoU = TP / (TP + FP + FN)\n",
        "        epsilon = 1e-9\n",
        "        intersection = np.diag(self.confusionMatrix)\n",
        "        union = np.sum(self.confusionMatrix, axis=1) + np.sum(self.confusionMatrix, axis=0) - np.diag(self.confusionMatrix)\n",
        "        IoU = intersection / (union+epsilon)\n",
        "        IoU[np.isnan(IoU)] = 0\n",
        "        mIoU = np.nanmean(IoU)\n",
        "        return mIoU\n",
        "\n",
        "    def IntersectionOverUnion(self):\n",
        "        epsilon = 1e-9\n",
        "        intersection = np.diag(self.confusionMatrix)\n",
        "        union = np.sum(self.confusionMatrix, axis=1) + np.sum(self.confusionMatrix, axis=0) - np.diag(self.confusionMatrix)\n",
        "        IoU = intersection / (union+epsilon)\n",
        "        IoU[np.isnan(IoU)] = 0\n",
        "        return IoU[1]\n",
        "\n",
        "    def genConfusionMatrix(self, imgPredict, imgLabel):\n",
        "        # remove classes from unlabeled pixels in gt image and predict\n",
        "        # print(imgLabel.shape)\n",
        "        # mask = (imgLabel >= 0) & (imgLabel < self.numClass)\n",
        "        label = self.numClass * imgLabel + imgPredict\n",
        "        count = np.bincount(label.flatten(), minlength=self.numClass ** 2)\n",
        "        confusionMatrix = count.reshape(self.numClass, self.numClass)\n",
        "        return confusionMatrix\n",
        "\n",
        "    def addBatch(self, imgPredict, imgLabel):\n",
        "        assert imgPredict.shape == imgLabel.shape\n",
        "\n",
        "        self.confusionMatrix += self.genConfusionMatrix(imgPredict, imgLabel)\n",
        "\n",
        "    def reset(self):\n",
        "        self.confusionMatrix = np.zeros((self.numClass, self.numClass))\n",
        "\n",
        "\n",
        "class AverageMeter(object):\n",
        "    \"\"\"Computes and stores the average and current value\"\"\"\n",
        "    def __init__(self):\n",
        "        self.reset()\n",
        "\n",
        "    def reset(self):\n",
        "        self.val = 0\n",
        "        self.avg = 0\n",
        "        self.sum = 0\n",
        "        self.count = 0\n",
        "\n",
        "    def update(self, val, n=1):\n",
        "        self.val = val\n",
        "        self.sum += val * n\n",
        "        self.count += n\n",
        "        self.avg = self.sum / self.count if self.count != 0 else 0"
      ],
      "metadata": {
        "id": "dnECzgGxrGfJ"
      },
      "execution_count": null,
      "outputs": []
    },
    {
      "cell_type": "code",
      "source": [
        "data = {'path': '/content/dataset_root',\n",
        " 'train': '/content/dataset_root/images/train',\n",
        " 'val': '/content/dataset_root/images/val',\n",
        " 'labels_list': ['detection-object',\n",
        "  'seg-track-04',\n",
        "  'seg-rail-05',\n",
        "  'seg-pole-06'],\n",
        " 'tnc': 7,\n",
        " 'nc_list': [4, 1, 1, 1],\n",
        " 'map': ['None', {'4': '0'}, {'5': '0'}, {'6': '0'}],\n",
        " 'names': {0: 'track-signal',\n",
        "  1: 'track-sign',\n",
        "  2: 'person',\n",
        "  3: 'vehicule',\n",
        "  4: 'track',\n",
        "  5: 'rail',\n",
        "  6: 'pole'},\n",
        " 'yaml_file': 'YOLOv8-multi-task/ultralytics/datasets/railsem19.yaml',\n",
        " 'nc': 7}"
      ],
      "metadata": {
        "id": "g9UoS-0csNdZ"
      },
      "execution_count": null,
      "outputs": []
    },
    {
      "cell_type": "code",
      "source": [
        "seg_metrics = {name: SegmentationMetric(data['nc_list'][count]+1)\n",
        "                for count, name in enumerate(data['labels_list']) if 'seg' in name}\n",
        "seg_result = {name: {'pixacc': AverageMeter(),\n",
        "                      'subacc': AverageMeter(),\n",
        "                      'IoU': AverageMeter(),\n",
        "                      'mIoU': AverageMeter()}\n",
        "                for count, name in enumerate(data['labels_list']) if 'seg' in name}\n",
        "seg_metrics"
      ],
      "metadata": {
        "colab": {
          "base_uri": "https://localhost:8080/"
        },
        "id": "UUTk19PJsB0y",
        "outputId": "3651ae09-14eb-4c32-a6cd-ba8ac5533007"
      },
      "execution_count": null,
      "outputs": [
        {
          "output_type": "execute_result",
          "data": {
            "text/plain": [
              "{'seg-track-04': <__main__.SegmentationMetric at 0x799420100be0>,\n",
              " 'seg-rail-05': <__main__.SegmentationMetric at 0x799420100eb0>,\n",
              " 'seg-pole-06': <__main__.SegmentationMetric at 0x799420101780>}"
            ]
          },
          "metadata": {},
          "execution_count": 16
        }
      ]
    },
    {
      "cell_type": "code",
      "source": [
        "_ = model.predict(source=np.random.randint(0,256,\n",
        "                                             size=(720,1280,3),\n",
        "                                             dtype=np.uint8),\n",
        "                    imgsz=(384,672),\n",
        "                    name='Rail',\n",
        "                    conf=0.2,\n",
        "                    iou=0.25,\n",
        "                    speed = True)"
      ],
      "metadata": {
        "colab": {
          "base_uri": "https://localhost:8080/"
        },
        "id": "vausN_pawPVv",
        "outputId": "5c9a7c03-a18f-411b-b4f2-7143bc322aaa"
      },
      "execution_count": null,
      "outputs": [
        {
          "output_type": "stream",
          "name": "stderr",
          "text": [
            "\n",
            "0: 384x672 (no detections), 25.8ms\n"
          ]
        }
      ]
    },
    {
      "cell_type": "code",
      "source": [
        "# idx = 0\n",
        "# im1 = np.array(results[idx].squeeze()).astype(np.uint8)*255\n",
        "# Image.fromarray(np.concatenate([im1,masks[idx]*255],axis=-1))"
      ],
      "metadata": {
        "colab": {
          "base_uri": "https://localhost:8080/",
          "height": 272
        },
        "id": "vinJYV274cF_",
        "outputId": "f89c0c5b-f87a-4873-9266-e1330620dd4c"
      },
      "execution_count": null,
      "outputs": [
        {
          "output_type": "execute_result",
          "data": {
            "text/plain": [
              "<PIL.Image.Image image mode=L size=2560x720>"
            ],
            "image/png": "[encoded data removed]",
            "image/jpeg": "[encoded data removed]"
          },
          "metadata": {},
          "execution_count": 95
        }
      ]
    },
    {
      "cell_type": "code",
      "source": [
        "def update_metrics_seg(preds,\n",
        "                        gt_mask,\n",
        "                        task_name=''):\n",
        "        \"\"\"Metrics.\"\"\"\n",
        "        pred_mask = np.array(preds.squeeze().cpu())\n",
        "\n",
        "        seg_metrics[task_name].reset()\n",
        "        seg_metrics[task_name].addBatch(pred_mask, gt_mask)\n",
        "\n",
        "        seg_result[task_name]['pixacc'].update(seg_metrics[task_name].pixelAccuracy())\n",
        "        seg_result[task_name]['subacc'].update(seg_metrics[task_name].lineAccuracy())\n",
        "        seg_result[task_name]['IoU'].update(seg_metrics[task_name].IntersectionOverUnion())\n",
        "        seg_result[task_name]['mIoU'].update(seg_metrics[task_name].meanIntersectionOverUnion())"
      ],
      "metadata": {
        "id": "8ha_S5OPz_As"
      },
      "execution_count": null,
      "outputs": []
    },
    {
      "cell_type": "code",
      "source": [
        "for mask in tqdm(mask_files):\n",
        "    img = cv2.imread(os.path.join('RailSem19/rs19_jpgs',mask.replace('.png','.jpg')))\n",
        "    img = cv2.resize(img, (1280, 720))\n",
        "\n",
        "    im0s = [img]  # yolo batch expects an image inside a list\n",
        "    im = model.predictor.preprocess(im0s)\n",
        "    preds = model.predictor.model(im)\n",
        "\n",
        "    ## model seg predictions\n",
        "    results = []\n",
        "    for i, pred in enumerate(preds):\n",
        "        if isinstance(pred, tuple):\n",
        "            pass\n",
        "        else:\n",
        "            pred = model.predictor.postprocess_seg(pred)\n",
        "            results.append(pred)\n",
        "\n",
        "    ## ground truth masks\n",
        "    masks = []\n",
        "    path = os.path.join('RailSem19/rs19_masks',mask)\n",
        "    im_id_map = cv2.imread(path,cv2.IMREAD_GRAYSCALE) #get semantic label map\n",
        "    for select_classes in class_groups:\n",
        "        im_id_map_copy = np.copy(im_id_map)\n",
        "        for select_class in select_classes:\n",
        "            im_id_map_copy[im_id_map_copy == select_class] = 20 # there are 19 classes so 20 is not used\n",
        "        im_id_map_copy[im_id_map_copy != 20] = 0\n",
        "        im_id_map_copy[im_id_map_copy == 20] = 1\n",
        "        im_id_map_copy = cv2.resize(im_id_map_copy,(1280, 720)) # resize\n",
        "        # im_id_map_copy = torch.from_numpy(im_id_map_copy) # torch tensor\n",
        "        masks.append(im_id_map_copy)\n",
        "\n",
        "    \"\"\" Metrics \"\"\"\n",
        "    for i,label_name in enumerate(seg_metrics.keys()):\n",
        "          update_metrics_seg(results[i],\n",
        "                             masks[i],\n",
        "                             label_name)"
      ],
      "metadata": {
        "colab": {
          "base_uri": "https://localhost:8080/",
          "height": 49,
          "referenced_widgets": [
            "15046a051e2a4222a146ca2cce9b4e83",
            "a1e6e383905945b88a9be5cb16ac1282",
            "384efd6118754f41a4c2dc2f78fa6cca",
            "c51ed80e4bcd4bf9bbe8028ad7f07740",
            "872f9379a7c44d47ab045f47184cfca0",
            "fb91110bb4674ee29baf4931db990eff",
            "15610f7842924feca0cdf27197732e29",
            "5fd588d9428d4e54a5bfca3ec6fdcf27",
            "8d0ecc7cac0b4cdc9e8c61b59c54791c",
            "aa6ed5e0f48e434ba550f69cbd54787e",
            "219548ced4494d1d855c4fd921a9cad2"
          ]
        },
        "id": "J7yswmkXDvXs",
        "outputId": "b634526b-c47c-438d-c688-48687042a562"
      },
      "execution_count": null,
      "outputs": [
        {
          "output_type": "display_data",
          "data": {
            "text/plain": [
              "  0%|          | 0/8500 [00:00<?, ?it/s]"
            ],
            "application/vnd.jupyter.widget-view+json": {
              "version_major": 2,
              "version_minor": 0,
              "model_id": "15046a051e2a4222a146ca2cce9b4e83"
            }
          },
          "metadata": {}
        }
      ]
    },
    {
      "cell_type": "code",
      "source": [
        "for k in seg_result.keys():\n",
        "  print(k)\n",
        "  for k1,v in seg_result[k].items():\n",
        "    print(k1)\n",
        "    print(v.avg)\n",
        "  print()"
      ],
      "metadata": {
        "colab": {
          "base_uri": "https://localhost:8080/"
        },
        "id": "qHkmy_IpDIvA",
        "outputId": "80d0fcfc-60fc-42f1-c398-3cfc91f2dfa3"
      },
      "execution_count": null,
      "outputs": [
        {
          "output_type": "stream",
          "name": "stdout",
          "text": [
            "seg-track-04\n",
            "pixacc\n",
            "0.9840119735498357\n",
            "subacc\n",
            "0.9376269929583367\n",
            "IoU\n",
            "0.7901968597931635\n",
            "mIoU\n",
            "0.8865094008397653\n",
            "\n",
            "seg-rail-05\n",
            "pixacc\n",
            "0.9813655514705882\n",
            "subacc\n",
            "0.8274080620425115\n",
            "IoU\n",
            "0.48533638098376297\n",
            "mIoU\n",
            "0.7331340992542957\n",
            "\n",
            "seg-pole-06\n",
            "pixacc\n",
            "0.9811534530739422\n",
            "subacc\n",
            "0.7007425581243891\n",
            "IoU\n",
            "0.32774667723643824\n",
            "mIoU\n",
            "0.6541862933988253\n",
            "\n"
          ]
        }
      ]
    },
    {
      "cell_type": "markdown",
      "source": [
        "$$$$"
      ],
      "metadata": {
        "id": "9G2Eb1J9rPfV"
      }
    },
    {
      "cell_type": "code",
      "source": [],
      "metadata": {
        "id": "CFFZzbRByA_Y"
      },
      "execution_count": null,
      "outputs": []
    }
  ]
}